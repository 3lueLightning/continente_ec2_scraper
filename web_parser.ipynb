{
  "nbformat": 4,
  "nbformat_minor": 0,
  "metadata": {
    "colab": {
      "name": "web_parser.ipynb",
      "provenance": [],
      "collapsed_sections": [],
      "include_colab_link": true
    },
    "kernelspec": {
      "name": "python3",
      "display_name": "Python 3"
    }
  },
  "cells": [
    {
      "cell_type": "markdown",
      "metadata": {
        "id": "view-in-github",
        "colab_type": "text"
      },
      "source": [
        "<a href=\"https://colab.research.google.com/github/3lueLightning/continente_ec2_scraper/blob/master/web_parser.ipynb\" target=\"_parent\"><img src=\"https://colab.research.google.com/assets/colab-badge.svg\" alt=\"Open In Colab\"/></a>"
      ]
    },
    {
      "cell_type": "code",
      "metadata": {
        "id": "T1bO-Kl70ND0",
        "colab_type": "code",
        "colab": {}
      },
      "source": [
        "products_html_fn = 'products_html.pkl'\n",
        "categories_fn = 'product_categories.csv'\n",
        "base_dir = \"/content/gdrive/My Drive/scraping/\" "
      ],
      "execution_count": 0,
      "outputs": []
    },
    {
      "cell_type": "code",
      "metadata": {
        "id": "mPwpOUsG0WlT",
        "colab_type": "code",
        "outputId": "fb618dbd-4bdc-429f-cf4a-e4e2d33240a6",
        "colab": {
          "base_uri": "https://localhost:8080/",
          "height": 124
        }
      },
      "source": [
        "from google.colab import drive\n",
        "import os\n",
        "\n",
        "drive.mount('/content/gdrive', force_remount=True)\n",
        "os.makedirs(base_dir, exist_ok=True)"
      ],
      "execution_count": 0,
      "outputs": [
        {
          "output_type": "stream",
          "text": [
            "Go to this URL in a browser: https://accounts.google.com/o/oauth2/auth?client_id=947318989803-6bn6qk8qdgf4n4g3pfee6491hc0brc4i.apps.googleusercontent.com&redirect_uri=urn%3aietf%3awg%3aoauth%3a2.0%3aoob&response_type=code&scope=email%20https%3a%2f%2fwww.googleapis.com%2fauth%2fdocs.test%20https%3a%2f%2fwww.googleapis.com%2fauth%2fdrive%20https%3a%2f%2fwww.googleapis.com%2fauth%2fdrive.photos.readonly%20https%3a%2f%2fwww.googleapis.com%2fauth%2fpeopleapi.readonly\n",
            "\n",
            "Enter your authorization code:\n",
            "··········\n",
            "Mounted at /content/gdrive\n"
          ],
          "name": "stdout"
        }
      ]
    },
    {
      "cell_type": "code",
      "metadata": {
        "id": "Xh8GFmyQ0aio",
        "colab_type": "code",
        "colab": {}
      },
      "source": [
        "import pickle\n",
        "\n",
        "def prod_unpickler(fn):\n",
        "  products = {}\n",
        "  with open(fn, 'rb') as load_file:\n",
        "    while True:\n",
        "      try:\n",
        "        new_prods = pickle.load(load_file)\n",
        "      except EOFError:\n",
        "        break\n",
        "      products.update(new_prods)\n",
        "  return products\n",
        "\n",
        "products_html = prod_unpickler(base_dir + products_html_fn)"
      ],
      "execution_count": 0,
      "outputs": []
    },
    {
      "cell_type": "code",
      "metadata": {
        "id": "8io8iWpzVko5",
        "colab_type": "code",
        "colab": {}
      },
      "source": [
        "#products_html = products_html_store.copy()"
      ],
      "execution_count": 0,
      "outputs": []
    },
    {
      "cell_type": "code",
      "metadata": {
        "id": "ya_iWRDy0tDs",
        "colab_type": "code",
        "outputId": "ce220a07-420e-4842-dbc1-d8e754880585",
        "colab": {
          "base_uri": "https://localhost:8080/",
          "height": 424
        }
      },
      "source": [
        "import pandas as pd\n",
        "\n",
        "categories = pd.read_csv( base_dir + categories_fn)\n",
        "categories"
      ],
      "execution_count": 0,
      "outputs": [
        {
          "output_type": "execute_result",
          "data": {
            "text/html": [
              "<div>\n",
              "<style scoped>\n",
              "    .dataframe tbody tr th:only-of-type {\n",
              "        vertical-align: middle;\n",
              "    }\n",
              "\n",
              "    .dataframe tbody tr th {\n",
              "        vertical-align: top;\n",
              "    }\n",
              "\n",
              "    .dataframe thead th {\n",
              "        text-align: right;\n",
              "    }\n",
              "</style>\n",
              "<table border=\"1\" class=\"dataframe\">\n",
              "  <thead>\n",
              "    <tr style=\"text-align: right;\">\n",
              "      <th></th>\n",
              "      <th>category</th>\n",
              "      <th>category_lvl1</th>\n",
              "    </tr>\n",
              "  </thead>\n",
              "  <tbody>\n",
              "    <tr>\n",
              "      <th>0</th>\n",
              "      <td>Bio e Saudável</td>\n",
              "      <td>Vegan e Vegetariano</td>\n",
              "    </tr>\n",
              "    <tr>\n",
              "      <th>1</th>\n",
              "      <td>Bio e Saudável</td>\n",
              "      <td>Sem Glúten</td>\n",
              "    </tr>\n",
              "    <tr>\n",
              "      <th>2</th>\n",
              "      <td>Bio e Saudável</td>\n",
              "      <td>Sem Lactose</td>\n",
              "    </tr>\n",
              "    <tr>\n",
              "      <th>3</th>\n",
              "      <td>Bio e Saudável</td>\n",
              "      <td>Biológicos</td>\n",
              "    </tr>\n",
              "    <tr>\n",
              "      <th>4</th>\n",
              "      <td>Bio e Saudável</td>\n",
              "      <td>Mercearia</td>\n",
              "    </tr>\n",
              "    <tr>\n",
              "      <th>...</th>\n",
              "      <td>...</td>\n",
              "      <td>...</td>\n",
              "    </tr>\n",
              "    <tr>\n",
              "      <th>133</th>\n",
              "      <td>Festa</td>\n",
              "      <td>Bebidas</td>\n",
              "    </tr>\n",
              "    <tr>\n",
              "      <th>134</th>\n",
              "      <td>Festa</td>\n",
              "      <td>Acessórios de Festa</td>\n",
              "    </tr>\n",
              "    <tr>\n",
              "      <th>135</th>\n",
              "      <td>Festa</td>\n",
              "      <td>Prendas</td>\n",
              "    </tr>\n",
              "    <tr>\n",
              "      <th>136</th>\n",
              "      <td>Festa</td>\n",
              "      <td>Aperitivos e Sobremesas</td>\n",
              "    </tr>\n",
              "    <tr>\n",
              "      <th>137</th>\n",
              "      <td>Festa</td>\n",
              "      <td>Visite a nossa Área de Bolos</td>\n",
              "    </tr>\n",
              "  </tbody>\n",
              "</table>\n",
              "<p>138 rows × 2 columns</p>\n",
              "</div>"
            ],
            "text/plain": [
              "           category                 category_lvl1\n",
              "0    Bio e Saudável           Vegan e Vegetariano\n",
              "1    Bio e Saudável                    Sem Glúten\n",
              "2    Bio e Saudável                   Sem Lactose\n",
              "3    Bio e Saudável                    Biológicos\n",
              "4    Bio e Saudável                     Mercearia\n",
              "..              ...                           ...\n",
              "133           Festa                       Bebidas\n",
              "134           Festa           Acessórios de Festa\n",
              "135           Festa                       Prendas\n",
              "136           Festa       Aperitivos e Sobremesas\n",
              "137           Festa  Visite a nossa Área de Bolos\n",
              "\n",
              "[138 rows x 2 columns]"
            ]
          },
          "metadata": {
            "tags": []
          },
          "execution_count": 47
        }
      ]
    },
    {
      "cell_type": "code",
      "metadata": {
        "id": "MmkwTf3fhkJG",
        "colab_type": "code",
        "colab": {}
      },
      "source": [
        "def price_parser(raw_price):\n",
        "  price, unit = raw_price.split()[1:]\n",
        "  price = float(price.replace(',', '.'))\n",
        "  return price, unit"
      ],
      "execution_count": 0,
      "outputs": []
    },
    {
      "cell_type": "code",
      "metadata": {
        "id": "1XQDwsNFhc62",
        "colab_type": "code",
        "colab": {}
      },
      "source": [
        "from bs4 import BeautifulSoup as soup\n",
        "\n",
        "def extract_product(container):\n",
        "  # product description\n",
        "  success = True\n",
        "  product_info ={}\n",
        "  description_html = container.findChild(\"div\",{\"class\":\"containerDescription\"})\n",
        "  try:\n",
        "    product_info['product'] = description_html.div.a[\"title\"]\n",
        "  except AttributeError:\n",
        "    success = False\n",
        "  try:\n",
        "    product_info['brand'] = description_html.find(\"div\",{\"class\":\"type\"}).text\n",
        "  except AttributeError:\n",
        "    pass\n",
        "  try:\n",
        "    details = description_html.find(\"div\",{\"class\":\"subTitle\"}).text\n",
        "  except AttributeError:\n",
        "    pass\n",
        "  else:\n",
        "    product_info['details'] = details.strip()\n",
        "  # product price\n",
        "  price_html = container.findChild(\"div\",{\"class\":\"containerPrice\"})\n",
        "  try:\n",
        "    price = price_html.find(\"div\",{\"class\":\"priceFirstRow\"}).text\n",
        "  except AttributeError:\n",
        "    success = False\n",
        "  else:\n",
        "    try:\n",
        "      product_info['price'], product_info['price_units'] = price_parser(price)\n",
        "    except:\n",
        "      success = False\n",
        "  try:\n",
        "    price_weight = price_html.find(\"div\",{\"class\":\"priceSecondRow\"}).text\n",
        "  except AttributeError:\n",
        "    try:\n",
        "      product_info['price_weight'], product_info['price_weight_units'] = price_parser(price_weight)\n",
        "    except:\n",
        "      success = False\n",
        "  discount_html = container.findChild(\"div\",{\"class\": \"discountMessage priceWas\"})\n",
        "  try:\n",
        "    product_info['price_pack_no_discount'] = discount_html.findChild(\"div\",{\"class\": \"priceFirstRow\"}).text\n",
        "  except AttributeError:\n",
        "    pass\n",
        "  try: \n",
        "    product_info['price_weight_no_discount'] = discount_html.findChild(\"div\",{\"class\": \"priceSecondRow\"}).text\n",
        "  except AttributeError:\n",
        "    pass\n",
        "  try:\n",
        "    product_info['discount_text'] = discount_html.findChild(\"span\",{\"class\": \"iconDiscountText\"}).text\n",
        "  except AttributeError:\n",
        "    pass\n",
        "  prod_links = container.findChild('div', {'class': 'image'})\n",
        "  try:\n",
        "    product_info['image_url'] = prod_links.a.img['src']\n",
        "  except AttributeError:\n",
        "    pass\n",
        "  try:\n",
        "    product_info['url'] = prod_links.a['href']\n",
        "  except AttributeError:\n",
        "    pass\n",
        "  return success, product_info"
      ],
      "execution_count": 0,
      "outputs": []
    },
    {
      "cell_type": "code",
      "metadata": {
        "id": "UiP3SkfTmKRR",
        "colab_type": "code",
        "colab": {}
      },
      "source": [
        "container = soup(products_html[0][0])"
      ],
      "execution_count": 0,
      "outputs": []
    },
    {
      "cell_type": "code",
      "metadata": {
        "id": "vd8_94dGu_nQ",
        "colab_type": "code",
        "colab": {}
      },
      "source": [
        "from collections import defaultdict\n",
        "\n",
        "prods_not_parsed = defaultdict(list)\n",
        "prods_parsed = []\n",
        "for category_id, containers in products_html.items():\n",
        "  i = 0\n",
        "  for container in containers:\n",
        "    success, prod = extract_product( soup(container))\n",
        "    if success:\n",
        "      prod['category_id'] = category_id\n",
        "      prods_parsed.append(prod)\n",
        "    else:\n",
        "      prods_not_parsed[category_id].append(i)\n",
        "    i += 1"
      ],
      "execution_count": 0,
      "outputs": []
    },
    {
      "cell_type": "code",
      "metadata": {
        "id": "bTlSYHaI_hJC",
        "colab_type": "code",
        "outputId": "09d23ec6-3f98-4002-9c9d-9002b3ff23cc",
        "colab": {
          "base_uri": "https://localhost:8080/",
          "height": 176
        }
      },
      "source": [
        "prods_parsed[0]"
      ],
      "execution_count": 0,
      "outputs": [
        {
          "output_type": "execute_result",
          "data": {
            "text/plain": [
              "{'brand': 'Continente',\n",
              " 'category_id': 0,\n",
              " 'details': 'emb. 300 gr',\n",
              " 'image_url': 'https://media.continente.pt/Sonae.eGlobal.Presentation.Web.Media/media.axd?resourceSearchType=2&resource=ProductId=6739066(eCsf$RetekProductCatalog$MegastoreContinenteOnline$Continente)&siteId=1&channelId=1&width=150&height=150&defaultOptions=1',\n",
              " 'price': 1.99,\n",
              " 'price_units': '/un',\n",
              " 'product': 'Couscous Quinoa e Vegetais',\n",
              " 'url': 'https://www.continente.pt/stores/continente/pt-pt/public/Pages/ProductDetail.aspx?ProductId=6739066(eCsf_RetekProductCatalog_MegastoreContinenteOnline_Continente)&refiner=%23%2F%3Fpl%3D80%26page%3D1'}"
            ]
          },
          "metadata": {
            "tags": []
          },
          "execution_count": 85
        }
      ]
    },
    {
      "cell_type": "code",
      "metadata": {
        "id": "fZF-ClilAjXC",
        "colab_type": "code",
        "colab": {}
      },
      "source": [
        "with open(base_dir + 'parsed_products.pkl', 'wb') as save_file:\n",
        "  pickle.dump( prods_parsed, save_file)"
      ],
      "execution_count": 0,
      "outputs": []
    }
  ]
}